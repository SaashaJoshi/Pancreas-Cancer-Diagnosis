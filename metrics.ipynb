{
  "nbformat": 4,
  "nbformat_minor": 0,
  "metadata": {
    "colab": {
      "name": "metrics.ipynb",
      "provenance": [],
      "collapsed_sections": [],
      "include_colab_link": true
    },
    "kernelspec": {
      "name": "python3",
      "display_name": "Python 3"
    }
  },
  "cells": [
    {
      "cell_type": "markdown",
      "metadata": {
        "id": "view-in-github",
        "colab_type": "text"
      },
      "source": [
        "<a href=\"https://colab.research.google.com/github/SaashaJoshi/Pancreas-Cancer/blob/master/metrics.ipynb\" target=\"_parent\"><img src=\"https://colab.research.google.com/assets/colab-badge.svg\" alt=\"Open In Colab\"/></a>"
      ]
    },
    {
      "cell_type": "code",
      "metadata": {
        "id": "Ikhb8EhEmFP-",
        "colab_type": "code",
        "outputId": "b0ab5116-1161-4733-c741-62d72d7468c3",
        "colab": {
          "base_uri": "https://localhost:8080/",
          "height": 221
        }
      },
      "source": [
        "pip install sewar"
      ],
      "execution_count": 0,
      "outputs": [
        {
          "output_type": "stream",
          "text": [
            "Collecting sewar\n",
            "  Downloading https://files.pythonhosted.org/packages/0c/5e/9153f0867d94c2c6959c35fda5a323cf3ca8e9979d03426f8444a4b3ba5b/sewar-0.4.3.tar.gz\n",
            "Requirement already satisfied: numpy in /usr/local/lib/python3.6/dist-packages (from sewar) (1.18.3)\n",
            "Requirement already satisfied: scipy in /usr/local/lib/python3.6/dist-packages (from sewar) (1.4.1)\n",
            "Requirement already satisfied: Pillow in /usr/local/lib/python3.6/dist-packages (from sewar) (7.0.0)\n",
            "Building wheels for collected packages: sewar\n",
            "  Building wheel for sewar (setup.py) ... \u001b[?25l\u001b[?25hdone\n",
            "  Created wheel for sewar: filename=sewar-0.4.3-cp36-none-any.whl size=10348 sha256=905b7257d1e96c29f787c7287e2f800ae849df2ecfe851d805322cb3f8cff895\n",
            "  Stored in directory: /root/.cache/pip/wheels/89/b2/ac/ea4b697b7c2393afe8f6f63b54ae6c26ee9fa9debd33e3926e\n",
            "Successfully built sewar\n",
            "Installing collected packages: sewar\n",
            "Successfully installed sewar-0.4.3\n"
          ],
          "name": "stdout"
        }
      ]
    },
    {
      "cell_type": "code",
      "metadata": {
        "id": "vAAfzlR6qLAM",
        "colab_type": "code",
        "outputId": "34f6fa78-cb5a-4404-d281-2100e91fc156",
        "colab": {
          "base_uri": "https://localhost:8080/",
          "height": 51
        }
      },
      "source": [
        "pip install scipy"
      ],
      "execution_count": 0,
      "outputs": [
        {
          "output_type": "stream",
          "text": [
            "Requirement already satisfied: scipy in /usr/local/lib/python3.6/dist-packages (1.4.1)\n",
            "Requirement already satisfied: numpy>=1.13.3 in /usr/local/lib/python3.6/dist-packages (from scipy) (1.18.3)\n"
          ],
          "name": "stdout"
        }
      ]
    },
    {
      "cell_type": "code",
      "metadata": {
        "id": "fPHR3xCdqdA-",
        "colab_type": "code",
        "outputId": "cb0912fd-d1f8-4da6-e599-1f4689215674",
        "colab": {
          "base_uri": "https://localhost:8080/",
          "height": 34
        }
      },
      "source": [
        "pip install Pillow"
      ],
      "execution_count": 0,
      "outputs": [
        {
          "output_type": "stream",
          "text": [
            "Requirement already satisfied: Pillow in /usr/local/lib/python3.6/dist-packages (7.0.0)\n"
          ],
          "name": "stdout"
        }
      ]
    },
    {
      "cell_type": "code",
      "metadata": {
        "id": "9x04X8Elm-A1",
        "colab_type": "code",
        "outputId": "78dc0b61-0229-4c71-edc5-81d7f6400d56",
        "colab": {
          "base_uri": "https://localhost:8080/",
          "height": 34
        }
      },
      "source": [
        "from google.colab import drive\n",
        "drive.mount('/content/drive')"
      ],
      "execution_count": 0,
      "outputs": [
        {
          "output_type": "stream",
          "text": [
            "Drive already mounted at /content/drive; to attempt to forcibly remount, call drive.mount(\"/content/drive\", force_remount=True).\n"
          ],
          "name": "stdout"
        }
      ]
    },
    {
      "cell_type": "code",
      "metadata": {
        "id": "0c9-8HcEniKR",
        "colab_type": "code",
        "colab": {}
      },
      "source": [
        "# import sewar\n",
        "# from sewar.full_ref import psnr, mse, ssim\n",
        "import numpy as np\n",
        "import scipy\n",
        "import cv2\n",
        "# from scipy.ndimage import imread\n",
        "# import Pillow as PIL\n",
        "\n",
        "img_gauss_noise = cv2.imread(\"drive/My Drive/denoise_data/NF(0.1)/Gauss_noise.png\")\n",
        "img_denoise = cv2.imread(\"drive/My Drive/denoise_data/NF(0.1)/Denoise.png\")\n",
        "img_nlm = cv2.imread(\"drive/My Drive/denoise_data/NF(0.1)/nlm_img.png\")\n",
        "img_bm3d = cv2.imread(\"drive/My Drive/denoise_data/NF(0.1)/bm3d_img.png\")\n",
        "# img_bm3d_nlm = cv2.imread(\"drive/My Drive/denoise_data/NF(0.1)/bm3d_nlm_img.png\")\n",
        "# img_bm3d_nlm_tv = cv2.imread(\"drive/My Drive/denoise_data/NF(0.1)/bm3d_nlm_tv_img.png\")\n",
        "img_tv = cv2.imread(\"drive/My Drive/denoise_data/NF(0.1)/tv_denoise_img.png\")\n",
        "# img_bm3d_tv = cv2.imread(\"drive/My Drive/denoise_data/NF(1)/bm3d_tv_img.png\")\n",
        "img_anis_tv = cv2.imread(\"drive/My Drive/denoise_data/NF(0.1)/anis_tv_img.png\")\n",
        "img_bm3d_anis_tv = cv2.imread(\"drive/My Drive/denoise_data/NF(0.1)/bm3d_anis_tv_img.png\")\n",
        "img_anis_bm3d_tv = cv2.imread(\"drive/My Drive/denoise_data/NF(0.1)/anis_bm3d_tv_img.png\")\n",
        "img_anis = cv2.imread(\"drive/My Drive/denoise_data/NF(0.1)/Anisotropic.png\")\n",
        "\n",
        "# img_gauss_noise = img_gauss_noise.astype(np.float64) / 255.\n",
        "\n",
        "\n",
        "# img_denoise = img_denoise.astype(np.float64) / 255.\n",
        "\n",
        "\n",
        "# img_nlm = img_nlm.astype(np.float64) / 255.\n",
        "\n",
        "\n",
        "# img_bm3d = img_bm3d.astype(np.float64) / 255.\n",
        "\n",
        "\n",
        "# img_tv = img_tv.astype(np.float64) / 255.\n",
        "\n",
        "\n",
        "# img_anis = img_anis.astype(np.float64) / 255.\n",
        "# img_anis_tv = img_anis_tv.astype(np.float64) / 255.\n",
        "\n",
        "\n",
        "# img_bm3d_anis_tv = img_bm3d_anis_tv.astype(np.float64) / 255.\n",
        "\n",
        "\n",
        "# img_anis_bm3d_tv = img_anis_bm3d_tv.astype(np.float64) / 255.\n",
        "\n",
        "\n",
        "# img_bm3d_nlm = img_bm3d_nlm.astype(np.float64) / 255.\n",
        "# img_bm3d_nlm = img_bm3d_nlm.astype(np.uint8)\n",
        "\n",
        "# img_bm3d_nlm_tv = img_bm3d_nlm_tv.astype(np.float64) / 255.\n",
        "# img_bm3d_nlm_tv = img_bm3d_nlm_tv.astype(np.uint8)\n",
        "\n",
        "# img_bm3d_tv = img_bm3d_tv.astype(np.float64) / 255.\n",
        "# img_bm3d_tv = img_bm3d_tv.astype(np.uint8)\n",
        "\n",
        "\n",
        "\n",
        "\n",
        "img_gauss_noise = img_gauss_noise.astype(np.uint8)\n",
        "img_denoise = img_denoise.astype(np.uint8)\n",
        "img_nlm = img_nlm.astype(np.uint8)\n",
        "img_bm3d = img_bm3d.astype(np.uint8)\n",
        "img_tv = img_tv.astype(np.uint8)\n",
        "img_anis = img_anis.astype(np.uint8)\n",
        "img_anis_tv = img_anis_tv.astype(np.uint8)\n",
        "img_bm3d_anis_tv = img_bm3d_anis_tv.astype(np.uint8)\n",
        "img_anis_bm3d_tv = img_anis_bm3d_tv.astype(np.uint8)\n"
      ],
      "execution_count": 0,
      "outputs": []
    },
    {
      "cell_type": "code",
      "metadata": {
        "id": "iYprrRvUq5Mo",
        "colab_type": "code",
        "colab": {}
      },
      "source": [
        "# sewar.full_ref.mse(img_gauss_noise, img_denoise)"
      ],
      "execution_count": 0,
      "outputs": []
    },
    {
      "cell_type": "code",
      "metadata": {
        "id": "ZJbudBcGoIhQ",
        "colab_type": "code",
        "colab": {}
      },
      "source": [
        "# sewar.full_ref.psnr(img_gauss_noise, img_denoise)"
      ],
      "execution_count": 0,
      "outputs": []
    },
    {
      "cell_type": "code",
      "metadata": {
        "id": "262wVDssugBR",
        "colab_type": "code",
        "colab": {}
      },
      "source": [
        "# sewar.full_ref.ssim(img_gauss_noise, img_denoise)"
      ],
      "execution_count": 0,
      "outputs": []
    },
    {
      "cell_type": "code",
      "metadata": {
        "id": "QjiQ3YfcoPt8",
        "colab_type": "code",
        "colab": {}
      },
      "source": [
        "def mse(img1, img2):\n",
        "  return np.mean((img1-img2)**2)"
      ],
      "execution_count": 0,
      "outputs": []
    },
    {
      "cell_type": "code",
      "metadata": {
        "id": "yagmpzGSpH0y",
        "colab_type": "code",
        "outputId": "ebbe5d27-649e-4c59-93ce-7b5ca2fdb5d9",
        "colab": {
          "base_uri": "https://localhost:8080/",
          "height": 34
        }
      },
      "source": [
        "mse(img_gauss_noise, img_denoise)"
      ],
      "execution_count": 0,
      "outputs": [
        {
          "output_type": "execute_result",
          "data": {
            "text/plain": [
              "115.68303553263347"
            ]
          },
          "metadata": {
            "tags": []
          },
          "execution_count": 54
        }
      ]
    },
    {
      "cell_type": "code",
      "metadata": {
        "id": "m1T3c9C0s-G4",
        "colab_type": "code",
        "outputId": "eca65581-ef33-44c3-a2e1-16f34ec3ff74",
        "colab": {
          "base_uri": "https://localhost:8080/",
          "height": 34
        }
      },
      "source": [
        "mse(img_gauss_noise, img_nlm)"
      ],
      "execution_count": 0,
      "outputs": [
        {
          "output_type": "execute_result",
          "data": {
            "text/plain": [
              "115.68303553263347"
            ]
          },
          "metadata": {
            "tags": []
          },
          "execution_count": 55
        }
      ]
    },
    {
      "cell_type": "code",
      "metadata": {
        "id": "_EILJmN7vJH6",
        "colab_type": "code",
        "outputId": "f4bb4eed-954d-4004-d72f-d480c5cb0ec9",
        "colab": {
          "base_uri": "https://localhost:8080/",
          "height": 34
        }
      },
      "source": [
        "mse(img_gauss_noise, img_bm3d)"
      ],
      "execution_count": 0,
      "outputs": [
        {
          "output_type": "execute_result",
          "data": {
            "text/plain": [
              "115.68128077189128"
            ]
          },
          "metadata": {
            "tags": []
          },
          "execution_count": 56
        }
      ]
    },
    {
      "cell_type": "code",
      "metadata": {
        "id": "kdup-tJIvJQO",
        "colab_type": "code",
        "outputId": "2abda9b6-e248-4e2f-fa84-10ab09bde12d",
        "colab": {
          "base_uri": "https://localhost:8080/",
          "height": 34
        }
      },
      "source": [
        "mse(img_gauss_noise, img_tv)"
      ],
      "execution_count": 0,
      "outputs": [
        {
          "output_type": "execute_result",
          "data": {
            "text/plain": [
              "115.30966695149739"
            ]
          },
          "metadata": {
            "tags": []
          },
          "execution_count": 57
        }
      ]
    },
    {
      "cell_type": "code",
      "metadata": {
        "id": "PqluOcMwpqKf",
        "colab_type": "code",
        "outputId": "0952d69a-4125-4ca5-e4ef-8e9ecc3dae08",
        "colab": {
          "base_uri": "https://localhost:8080/",
          "height": 34
        }
      },
      "source": [
        "mse(img_gauss_noise, img_anis)"
      ],
      "execution_count": 0,
      "outputs": [
        {
          "output_type": "execute_result",
          "data": {
            "text/plain": [
              "115.1371587117513"
            ]
          },
          "metadata": {
            "tags": []
          },
          "execution_count": 58
        }
      ]
    },
    {
      "cell_type": "code",
      "metadata": {
        "id": "vRGir3BjsP5m",
        "colab_type": "code",
        "outputId": "8afc2bd7-8c39-4dc7-d106-7796d6805b4b",
        "colab": {
          "base_uri": "https://localhost:8080/",
          "height": 34
        }
      },
      "source": [
        "mse(img_gauss_noise, img_anis_tv)"
      ],
      "execution_count": 0,
      "outputs": [
        {
          "output_type": "execute_result",
          "data": {
            "text/plain": [
              "115.03171920776367"
            ]
          },
          "metadata": {
            "tags": []
          },
          "execution_count": 59
        }
      ]
    },
    {
      "cell_type": "code",
      "metadata": {
        "id": "gL42ppH8vA5j",
        "colab_type": "code",
        "outputId": "34723ed8-5741-45ab-a39d-4dea0113cc0d",
        "colab": {
          "base_uri": "https://localhost:8080/",
          "height": 34
        }
      },
      "source": [
        "mse(img_gauss_noise, img_bm3d_anis_tv)"
      ],
      "execution_count": 0,
      "outputs": [
        {
          "output_type": "execute_result",
          "data": {
            "text/plain": [
              "115.22651926676433"
            ]
          },
          "metadata": {
            "tags": []
          },
          "execution_count": 60
        }
      ]
    },
    {
      "cell_type": "code",
      "metadata": {
        "id": "XbcA2QkGw5ka",
        "colab_type": "code",
        "outputId": "9439b607-7734-47d7-8f1a-f961ac4139e7",
        "colab": {
          "base_uri": "https://localhost:8080/",
          "height": 163
        }
      },
      "source": [
        "mse(img_gauss_noise, img_bm3d_nlm)"
      ],
      "execution_count": 0,
      "outputs": [
        {
          "output_type": "error",
          "ename": "NameError",
          "evalue": "ignored",
          "traceback": [
            "\u001b[0;31m---------------------------------------------------------------------------\u001b[0m",
            "\u001b[0;31mNameError\u001b[0m                                 Traceback (most recent call last)",
            "\u001b[0;32m<ipython-input-61-69a2b036eb16>\u001b[0m in \u001b[0;36m<module>\u001b[0;34m()\u001b[0m\n\u001b[0;32m----> 1\u001b[0;31m \u001b[0mmse\u001b[0m\u001b[0;34m(\u001b[0m\u001b[0mimg_gauss_noise\u001b[0m\u001b[0;34m,\u001b[0m \u001b[0mimg_bm3d_nlm\u001b[0m\u001b[0;34m)\u001b[0m\u001b[0;34m\u001b[0m\u001b[0;34m\u001b[0m\u001b[0m\n\u001b[0m",
            "\u001b[0;31mNameError\u001b[0m: name 'img_bm3d_nlm' is not defined"
          ]
        }
      ]
    },
    {
      "cell_type": "code",
      "metadata": {
        "id": "OxxDX6Ftq937",
        "colab_type": "code",
        "colab": {}
      },
      "source": [
        "mse(img_gauss_noise, img_bm3d_tv)"
      ],
      "execution_count": 0,
      "outputs": []
    },
    {
      "cell_type": "code",
      "metadata": {
        "id": "C2voiklVrz3w",
        "colab_type": "code",
        "outputId": "0cf5d39c-2108-45a5-ec66-59ac6f28e899",
        "colab": {
          "base_uri": "https://localhost:8080/",
          "height": 34
        }
      },
      "source": [
        "mse(img_gauss_noise, img_anis_bm3d_tv)"
      ],
      "execution_count": 0,
      "outputs": [
        {
          "output_type": "execute_result",
          "data": {
            "text/plain": [
              "115.02960840861003"
            ]
          },
          "metadata": {
            "tags": []
          },
          "execution_count": 62
        }
      ]
    },
    {
      "cell_type": "code",
      "metadata": {
        "id": "W72Hg1FxxpS-",
        "colab_type": "code",
        "outputId": "22f45750-663e-44fc-b4ab-fa18519b0c19",
        "colab": {
          "base_uri": "https://localhost:8080/",
          "height": 163
        }
      },
      "source": [
        "mse(img_gauss_noise, img_bm3d_nlm_tv)"
      ],
      "execution_count": 0,
      "outputs": [
        {
          "output_type": "error",
          "ename": "NameError",
          "evalue": "ignored",
          "traceback": [
            "\u001b[0;31m---------------------------------------------------------------------------\u001b[0m",
            "\u001b[0;31mNameError\u001b[0m                                 Traceback (most recent call last)",
            "\u001b[0;32m<ipython-input-63-adef1e8cca17>\u001b[0m in \u001b[0;36m<module>\u001b[0;34m()\u001b[0m\n\u001b[0;32m----> 1\u001b[0;31m \u001b[0mmse\u001b[0m\u001b[0;34m(\u001b[0m\u001b[0mimg_gauss_noise\u001b[0m\u001b[0;34m,\u001b[0m \u001b[0mimg_bm3d_nlm_tv\u001b[0m\u001b[0;34m)\u001b[0m\u001b[0;34m\u001b[0m\u001b[0;34m\u001b[0m\u001b[0m\n\u001b[0m",
            "\u001b[0;31mNameError\u001b[0m: name 'img_bm3d_nlm_tv' is not defined"
          ]
        }
      ]
    },
    {
      "cell_type": "code",
      "metadata": {
        "id": "2Lbtk5P4pKPw",
        "colab_type": "code",
        "colab": {}
      },
      "source": [
        "def psnr(img1, img2, MAX = 255.0):\n",
        "  mse_value = mse(img1, img2)\n",
        "  return 10 * np.log10(MAX**2 /mse_value)\n",
        "\t# if mse_value == 0.:\n",
        "\t# \treturn np.inf"
      ],
      "execution_count": 0,
      "outputs": []
    },
    {
      "cell_type": "code",
      "metadata": {
        "id": "tQ3ORsjtrXQU",
        "colab_type": "code",
        "colab": {}
      },
      "source": [
        "psnr(img_gauss_noise, img_denoise)"
      ],
      "execution_count": 0,
      "outputs": []
    },
    {
      "cell_type": "code",
      "metadata": {
        "id": "WrUvVJdSrbDe",
        "colab_type": "code",
        "colab": {}
      },
      "source": [
        "psnr(img_gauss_noise, img_nlm)"
      ],
      "execution_count": 0,
      "outputs": []
    },
    {
      "cell_type": "code",
      "metadata": {
        "id": "ME_EuDZItEI4",
        "colab_type": "code",
        "colab": {}
      },
      "source": [
        "psnr(img_gauss_noise, img_bm3d)"
      ],
      "execution_count": 0,
      "outputs": []
    },
    {
      "cell_type": "code",
      "metadata": {
        "id": "b68w8QgOvULe",
        "colab_type": "code",
        "outputId": "1ceb33f3-ffab-40e5-ccd2-1c05049a256c",
        "colab": {
          "base_uri": "https://localhost:8080/",
          "height": 34
        }
      },
      "source": [
        "psnr(img_gauss_noise, img_tv)"
      ],
      "execution_count": 0,
      "outputs": [
        {
          "output_type": "execute_result",
          "data": {
            "text/plain": [
              "27.512146430987492"
            ]
          },
          "metadata": {
            "tags": []
          },
          "execution_count": 64
        }
      ]
    },
    {
      "cell_type": "code",
      "metadata": {
        "id": "I-MKPpXNpxJD",
        "colab_type": "code",
        "outputId": "17e68833-f9c1-4286-8965-883a0511cd0d",
        "colab": {
          "base_uri": "https://localhost:8080/",
          "height": 34
        }
      },
      "source": [
        "psnr(img_gauss_noise, img_anis)"
      ],
      "execution_count": 0,
      "outputs": [
        {
          "output_type": "execute_result",
          "data": {
            "text/plain": [
              "27.518648528847443"
            ]
          },
          "metadata": {
            "tags": []
          },
          "execution_count": 65
        }
      ]
    },
    {
      "cell_type": "code",
      "metadata": {
        "id": "3EuP1horsNWj",
        "colab_type": "code",
        "outputId": "b82a2f97-16f5-4347-8245-6f1d101f03d7",
        "colab": {
          "base_uri": "https://localhost:8080/",
          "height": 34
        }
      },
      "source": [
        "psnr(img_gauss_noise, img_anis_tv)"
      ],
      "execution_count": 0,
      "outputs": [
        {
          "output_type": "execute_result",
          "data": {
            "text/plain": [
              "27.52262750275335"
            ]
          },
          "metadata": {
            "tags": []
          },
          "execution_count": 66
        }
      ]
    },
    {
      "cell_type": "code",
      "metadata": {
        "id": "17lOO9XuvHrj",
        "colab_type": "code",
        "outputId": "bf9cddc7-bcca-4718-929f-56323d7caeb4",
        "colab": {
          "base_uri": "https://localhost:8080/",
          "height": 34
        }
      },
      "source": [
        "psnr(img_gauss_noise, img_bm3d_anis_tv)"
      ],
      "execution_count": 0,
      "outputs": [
        {
          "output_type": "execute_result",
          "data": {
            "text/plain": [
              "27.515279178416066"
            ]
          },
          "metadata": {
            "tags": []
          },
          "execution_count": 67
        }
      ]
    },
    {
      "cell_type": "code",
      "metadata": {
        "id": "92bUSY4hvXAa",
        "colab_type": "code",
        "outputId": "17dfe4db-0d47-499b-e8f7-819220237887",
        "colab": {
          "base_uri": "https://localhost:8080/",
          "height": 163
        }
      },
      "source": [
        "psnr(img_gauss_noise, img_bm3d_nlm)"
      ],
      "execution_count": 0,
      "outputs": [
        {
          "output_type": "error",
          "ename": "NameError",
          "evalue": "ignored",
          "traceback": [
            "\u001b[0;31m---------------------------------------------------------------------------\u001b[0m",
            "\u001b[0;31mNameError\u001b[0m                                 Traceback (most recent call last)",
            "\u001b[0;32m<ipython-input-68-ef5c46b8ba56>\u001b[0m in \u001b[0;36m<module>\u001b[0;34m()\u001b[0m\n\u001b[0;32m----> 1\u001b[0;31m \u001b[0mpsnr\u001b[0m\u001b[0;34m(\u001b[0m\u001b[0mimg_gauss_noise\u001b[0m\u001b[0;34m,\u001b[0m \u001b[0mimg_bm3d_nlm\u001b[0m\u001b[0;34m)\u001b[0m\u001b[0;34m\u001b[0m\u001b[0;34m\u001b[0m\u001b[0m\n\u001b[0m",
            "\u001b[0;31mNameError\u001b[0m: name 'img_bm3d_nlm' is not defined"
          ]
        }
      ]
    },
    {
      "cell_type": "code",
      "metadata": {
        "id": "nLBX14MDrC7S",
        "colab_type": "code",
        "colab": {}
      },
      "source": [
        "psnr(img_gauss_noise, img_bm3d_tv)"
      ],
      "execution_count": 0,
      "outputs": []
    },
    {
      "cell_type": "code",
      "metadata": {
        "id": "HkVWF4Zar43z",
        "colab_type": "code",
        "outputId": "df00fdb6-cecd-483f-9f4b-7008cb4f7611",
        "colab": {
          "base_uri": "https://localhost:8080/",
          "height": 34
        }
      },
      "source": [
        "psnr(img_gauss_noise, img_anis_bm3d_tv)"
      ],
      "execution_count": 0,
      "outputs": [
        {
          "output_type": "execute_result",
          "data": {
            "text/plain": [
              "27.52270719528006"
            ]
          },
          "metadata": {
            "tags": []
          },
          "execution_count": 69
        }
      ]
    },
    {
      "cell_type": "code",
      "metadata": {
        "id": "tMNP5SHbxMVs",
        "colab_type": "code",
        "outputId": "28acdeda-445a-4309-edc1-a68701abc78e",
        "colab": {
          "base_uri": "https://localhost:8080/",
          "height": 163
        }
      },
      "source": [
        "psnr(img_gauss_noise, img_bm3d_nlm_tv)"
      ],
      "execution_count": 0,
      "outputs": [
        {
          "output_type": "error",
          "ename": "NameError",
          "evalue": "ignored",
          "traceback": [
            "\u001b[0;31m---------------------------------------------------------------------------\u001b[0m",
            "\u001b[0;31mNameError\u001b[0m                                 Traceback (most recent call last)",
            "\u001b[0;32m<ipython-input-70-2008b52a4627>\u001b[0m in \u001b[0;36m<module>\u001b[0;34m()\u001b[0m\n\u001b[0;32m----> 1\u001b[0;31m \u001b[0mpsnr\u001b[0m\u001b[0;34m(\u001b[0m\u001b[0mimg_gauss_noise\u001b[0m\u001b[0;34m,\u001b[0m \u001b[0mimg_bm3d_nlm_tv\u001b[0m\u001b[0;34m)\u001b[0m\u001b[0;34m\u001b[0m\u001b[0;34m\u001b[0m\u001b[0m\n\u001b[0m",
            "\u001b[0;31mNameError\u001b[0m: name 'img_bm3d_nlm_tv' is not defined"
          ]
        }
      ]
    },
    {
      "cell_type": "code",
      "metadata": {
        "id": "bo0F4wReI4nP",
        "colab_type": "code",
        "colab": {}
      },
      "source": [
        "from skimage import io,img_as_float\n",
        "from skimage.metrics import structural_similarity as ssim"
      ],
      "execution_count": 0,
      "outputs": []
    },
    {
      "cell_type": "code",
      "metadata": {
        "id": "2T4E1dQ6JnOq",
        "colab_type": "code",
        "outputId": "1d5b3520-a9b6-437d-f38b-1ec863415423",
        "colab": {
          "base_uri": "https://localhost:8080/",
          "height": 34
        }
      },
      "source": [
        "img_gauss_noise = cv2.cvtColor(img_gauss_noise, cv2.COLOR_BGR2GRAY)\n",
        "img_denoise = cv2.cvtColor(img_denoise, cv2.COLOR_BGR2GRAY)\n",
        "\n",
        "ssim(img_gauss_noise, img_denoise)"
      ],
      "execution_count": 0,
      "outputs": [
        {
          "output_type": "execute_result",
          "data": {
            "text/plain": [
              "0.21084067781770396"
            ]
          },
          "metadata": {
            "tags": []
          },
          "execution_count": 91
        }
      ]
    },
    {
      "cell_type": "code",
      "metadata": {
        "id": "UfPz8DEUJ_eS",
        "colab_type": "code",
        "outputId": "011af5fc-cccd-4390-86d5-0afbce8d8196",
        "colab": {
          "base_uri": "https://localhost:8080/",
          "height": 34
        }
      },
      "source": [
        "img_anis_bm3d_tv = cv2.cvtColor(img_anis_bm3d_tv, cv2.COLOR_BGR2GRAY)\n",
        "\n",
        "ssim(img_gauss_noise, img_anis_bm3d_tv)"
      ],
      "execution_count": 0,
      "outputs": [
        {
          "output_type": "execute_result",
          "data": {
            "text/plain": [
              "0.13261565047658325"
            ]
          },
          "metadata": {
            "tags": []
          },
          "execution_count": 92
        }
      ]
    },
    {
      "cell_type": "code",
      "metadata": {
        "id": "Iec7FA9iKG8Q",
        "colab_type": "code",
        "outputId": "c23b4c6a-9cab-4a5d-8775-1c561d153f97",
        "colab": {
          "base_uri": "https://localhost:8080/",
          "height": 34
        }
      },
      "source": [
        "img_bm3d_anis_tv = cv2.cvtColor(img_bm3d_anis_tv, cv2.COLOR_BGR2GRAY)\n",
        "\n",
        "ssim(img_gauss_noise, img_bm3d_anis_tv)"
      ],
      "execution_count": 0,
      "outputs": [
        {
          "output_type": "execute_result",
          "data": {
            "text/plain": [
              "0.1325935415993529"
            ]
          },
          "metadata": {
            "tags": []
          },
          "execution_count": 93
        }
      ]
    },
    {
      "cell_type": "code",
      "metadata": {
        "id": "_E-zFMuGPeJT",
        "colab_type": "code",
        "outputId": "acb4a422-6252-4226-ec1a-3fa84a6b5c72",
        "colab": {
          "base_uri": "https://localhost:8080/",
          "height": 34
        }
      },
      "source": [
        "img_anis_tv = cv2.cvtColor(img_anis_tv, cv2.COLOR_BGR2GRAY)\n",
        "\n",
        "ssim(img_gauss_noise, img_anis_tv)"
      ],
      "execution_count": 0,
      "outputs": [
        {
          "output_type": "execute_result",
          "data": {
            "text/plain": [
              "0.1325935415993529"
            ]
          },
          "metadata": {
            "tags": []
          },
          "execution_count": 94
        }
      ]
    },
    {
      "cell_type": "code",
      "metadata": {
        "id": "tlIIS35OWdTt",
        "colab_type": "code",
        "outputId": "1ee51a2b-332a-4224-fda0-f0de14c3acaa",
        "colab": {
          "base_uri": "https://localhost:8080/",
          "height": 51
        }
      },
      "source": [
        "import numpy as np\n",
        "import cv2\n",
        "path=\n",
        "noisy=cv2.imread(path+\"Details/org.png\")\n",
        "anisotropic=cv2.imread(path+\"Anisotropic.png\")\n",
        "bm3d=cv2.imread(path+\"bm3d_img.png\")\n",
        "tv=cv2.imread(path+\"tv_denoise_img.png\")\n",
        "nlm=cv2.imread(path+\"nlm_img.png\")\n",
        "hybrid_tv=cv2.imread(path+\"hybrid_tv_img.png\")\n",
        "hybrid_bm3d=cv2.imread(path+\"hybrid_bm3d_img.png\")\n",
        "print(anisotropic.dtype,bm3d.dtype,tv.dtype,nlm.dtype,hybrid_tv.dtype,hybrid_bm3d.dtype)\n",
        "\n",
        "# noisy=noisy.astype(np.float64) / 255.\n",
        "# anisotropic=anisotropic.astype(np.float64) / 255.\n",
        "# bm3d=bm3d.astype(np.float64) / 255.\n",
        "# tv=tv.astype(np.float64) / 255.\n",
        "# nlm=nlm.astype(np.float64) / 255.\n",
        "# hybrid_tv=hybrid_tv.astype(np.float64) / 255.\n",
        "# hybrid_bm3d=hybrid_bm3d.astype(np.float64) / 255.\n",
        "\n",
        "noisy=noisy.astype(np.uint8)\n",
        "anisotropic=anisotropic.astype(np.uint8)\n",
        "bm3d=bm3d.astype(np.uint8)\n",
        "tv=tv.astype(np.uint8)\n",
        "nlm=nlm.astype(np.uint8)\n",
        "hybrid_tv=hybrid_tv.astype(np.uint8)\n",
        "hybrid_bm3d=hybrid_bm3d.astype(np.uint8)\n",
        "\n",
        "\n",
        "\n",
        "print(anisotropic.dtype,bm3d.dtype,tv.dtype,nlm.dtype,hybrid_tv.dtype,hybrid_bm3d.dtype)"
      ],
      "execution_count": 0,
      "outputs": [
        {
          "output_type": "stream",
          "text": [
            "uint8 uint8 uint8 uint8 uint8 uint8\n",
            "uint8 uint8 uint8 uint8 uint8 uint8\n"
          ],
          "name": "stdout"
        }
      ]
    },
    {
      "cell_type": "code",
      "metadata": {
        "id": "2NhnBu1Afzer",
        "colab_type": "code",
        "outputId": "7b54506f-5ebf-499b-a91c-da503d36e481",
        "colab": {
          "base_uri": "https://localhost:8080/",
          "height": 34
        }
      },
      "source": [
        "Mse=mse(noisy,anisotropic)\n",
        "Psnr=psnr(noisy,anisotropic)\n",
        "print(f\"MSE:{Mse}  PSNR:{Psnr}\")"
      ],
      "execution_count": 0,
      "outputs": [
        {
          "output_type": "stream",
          "text": [
            "MSE:114.31619644165039  PSNR:27.549725948040585\n"
          ],
          "name": "stdout"
        }
      ]
    },
    {
      "cell_type": "code",
      "metadata": {
        "id": "taiPWQyhgW4l",
        "colab_type": "code",
        "outputId": "cc1233a3-3cc4-4969-82e0-b7e728f4865a",
        "colab": {
          "base_uri": "https://localhost:8080/",
          "height": 34
        }
      },
      "source": [
        "Mse=mse(noisy,bm3d)\n",
        "Psnr=psnr(noisy,bm3d)\n",
        "print(f\"MSE:{Mse}  PSNR:{Psnr}\")"
      ],
      "execution_count": 0,
      "outputs": [
        {
          "output_type": "stream",
          "text": [
            "MSE:113.41011810302734  PSNR:27.58428558160351\n"
          ],
          "name": "stdout"
        }
      ]
    },
    {
      "cell_type": "code",
      "metadata": {
        "id": "01I4u-aeg4ei",
        "colab_type": "code",
        "outputId": "3225252f-f725-4c1f-9ae9-0b86b131d028",
        "colab": {
          "base_uri": "https://localhost:8080/",
          "height": 34
        }
      },
      "source": [
        "Mse=mse(noisy,tv)\n",
        "Psnr=psnr(noisy,tv)\n",
        "print(f\"MSE:{Mse}  PSNR:{Psnr}\")"
      ],
      "execution_count": 0,
      "outputs": [
        {
          "output_type": "stream",
          "text": [
            "MSE:113.3148422241211  PSNR:27.587935624443386\n"
          ],
          "name": "stdout"
        }
      ]
    },
    {
      "cell_type": "code",
      "metadata": {
        "id": "SmYkbImkg9WT",
        "colab_type": "code",
        "outputId": "fb3f2302-01d0-47cd-de38-dcebc2be9cf1",
        "colab": {
          "base_uri": "https://localhost:8080/",
          "height": 34
        }
      },
      "source": [
        "Mse=mse(noisy,nlm)\n",
        "Psnr=psnr(noisy,nlm)\n",
        "print(f\"MSE:{Mse}  PSNR:{Psnr}\")"
      ],
      "execution_count": 0,
      "outputs": [
        {
          "output_type": "stream",
          "text": [
            "MSE:116.15234375  PSNR:27.480523833444636\n"
          ],
          "name": "stdout"
        }
      ]
    },
    {
      "cell_type": "code",
      "metadata": {
        "id": "5-Rkjch7hJev",
        "colab_type": "code",
        "outputId": "e362c698-63a5-40ce-aac1-456b4d0f5aec",
        "colab": {
          "base_uri": "https://localhost:8080/",
          "height": 34
        }
      },
      "source": [
        "Mse=mse(noisy,hybrid_bm3d)\n",
        "Psnr=psnr(noisy,hybrid_bm3d)\n",
        "print(f\"MSE:{Mse}  PSNR:{Psnr}\")"
      ],
      "execution_count": 0,
      "outputs": [
        {
          "output_type": "stream",
          "text": [
            "MSE:113.40855026245117  PSNR:27.58434562115102\n"
          ],
          "name": "stdout"
        }
      ]
    },
    {
      "cell_type": "code",
      "metadata": {
        "id": "Gjk1t2yzhQMM",
        "colab_type": "code",
        "outputId": "582f7634-c75a-4cd5-cbe4-41e2b3806076",
        "colab": {
          "base_uri": "https://localhost:8080/",
          "height": 34
        }
      },
      "source": [
        "Mse=mse(noisy,hybrid_tv)\n",
        "Psnr=psnr(noisy,hybrid_tv)\n",
        "print(f\"MSE:{Mse}  PSNR:{Psnr}\")"
      ],
      "execution_count": 0,
      "outputs": [
        {
          "output_type": "stream",
          "text": [
            "MSE:113.3776741027832  PSNR:27.58552817497558\n"
          ],
          "name": "stdout"
        }
      ]
    },
    {
      "cell_type": "code",
      "metadata": {
        "id": "-cm6lJtKhURL",
        "colab_type": "code",
        "colab": {}
      },
      "source": [
        "import numpy as np\n",
        "from skimage.metrics import structural_similarity\n",
        "\n",
        "filters=['TV-NLM',\n",
        "         'BM3D-NLM',\n",
        "         'Bilateral',\n",
        "         'BM3D',\n",
        "         'Anisotropic',\n",
        "          'Median',\n",
        "         'NLM',\n",
        "         'Total Variation',\n",
        "          'Gaussian',\n",
        "         'Wavelet',\n",
        "         'Weiner',\n",
        "         'Unsharp Filter']\n",
        "dataset={\"0.1\":{'PSNR':[],'MSE':[],'SSIM':[]},\n",
        "         \"0.3\":{'PSNR':[],'MSE':[],'SSIM':[]},\n",
        "         \"0.5\":{'PSNR':[],'MSE':[],'SSIM':[]}}\n",
        "for noise_ratio in [\"0.1\",\"0.3\",\"0.5\"]:\n",
        "  org_path=\"drive/My Drive/Denoising/With_Gaussian_Noise_\"+ noise_ratio +\"/Details/org.png\"\n",
        "  original=cv2.imread(org_path)\n",
        "  for denoised_img in [\"hybrid_tv_img\",\"hybrid_bm3d_img\",\"bilateral\",\"bm3d_img\",\"Anisotropic\",\"median\",\"nlm_img\",\"tv_denoise_img\",\"gaussian\",\"wavelet\",\"weiner\",\"unsharp_filter\"]:\n",
        "      \n",
        "      denoised_path=\"drive/My Drive/Denoising/With_Gaussian_Noise_\"+noise_ratio+\"/\" + denoised_img +\".png\"\n",
        "      denoised=cv2.imread(denoised_path)\n",
        "   \n",
        "      \n",
        "      PSNR=psnr(original,denoised)\n",
        "      MSE=mse(original,denoised)\n",
        "      SSIM=structural_similarity(original,denoised,multichannel=True)\n",
        "      \n",
        "      # #dataset[noise_ratio]['Filter'].append(denoised_img)\n",
        "      dataset[noise_ratio]['PSNR'].append(PSNR)\n",
        "      dataset[noise_ratio]['MSE'].append(MSE)\n",
        "      dataset[noise_ratio]['SSIM'].append(SSIM)"
      ],
      "execution_count": 0,
      "outputs": []
    },
    {
      "cell_type": "code",
      "metadata": {
        "id": "a-RBzNaU2Rmq",
        "colab_type": "code",
        "colab": {}
      },
      "source": [
        "import pandas as pd"
      ],
      "execution_count": 0,
      "outputs": []
    },
    {
      "cell_type": "code",
      "metadata": {
        "id": "IQYfdVWl3S-x",
        "colab_type": "code",
        "outputId": "5e389e0b-a578-4788-b682-c3c725a1b7cd",
        "colab": {
          "base_uri": "https://localhost:8080/",
          "height": 421
        }
      },
      "source": [
        "data=dataset[\"0.1\"]\n",
        "index=filters\n",
        "df=pd.DataFrame(data,index)\n",
        "df"
      ],
      "execution_count": 0,
      "outputs": [
        {
          "output_type": "execute_result",
          "data": {
            "text/html": [
              "<div>\n",
              "<style scoped>\n",
              "    .dataframe tbody tr th:only-of-type {\n",
              "        vertical-align: middle;\n",
              "    }\n",
              "\n",
              "    .dataframe tbody tr th {\n",
              "        vertical-align: top;\n",
              "    }\n",
              "\n",
              "    .dataframe thead th {\n",
              "        text-align: right;\n",
              "    }\n",
              "</style>\n",
              "<table border=\"1\" class=\"dataframe\">\n",
              "  <thead>\n",
              "    <tr style=\"text-align: right;\">\n",
              "      <th></th>\n",
              "      <th>PSNR</th>\n",
              "      <th>MSE</th>\n",
              "      <th>SSIM</th>\n",
              "    </tr>\n",
              "  </thead>\n",
              "  <tbody>\n",
              "    <tr>\n",
              "      <th>TV-NLM</th>\n",
              "      <td>27.504545</td>\n",
              "      <td>115.511662</td>\n",
              "      <td>0.234667</td>\n",
              "    </tr>\n",
              "    <tr>\n",
              "      <th>BM3D-NLM</th>\n",
              "      <td>27.511726</td>\n",
              "      <td>115.320843</td>\n",
              "      <td>0.249886</td>\n",
              "    </tr>\n",
              "    <tr>\n",
              "      <th>Bilateral</th>\n",
              "      <td>30.419063</td>\n",
              "      <td>59.043770</td>\n",
              "      <td>0.617440</td>\n",
              "    </tr>\n",
              "    <tr>\n",
              "      <th>BM3D</th>\n",
              "      <td>27.511817</td>\n",
              "      <td>115.318413</td>\n",
              "      <td>0.249885</td>\n",
              "    </tr>\n",
              "    <tr>\n",
              "      <th>Anisotropic</th>\n",
              "      <td>27.534542</td>\n",
              "      <td>114.716583</td>\n",
              "      <td>0.339832</td>\n",
              "    </tr>\n",
              "    <tr>\n",
              "      <th>Median</th>\n",
              "      <td>30.239865</td>\n",
              "      <td>61.530979</td>\n",
              "      <td>0.456341</td>\n",
              "    </tr>\n",
              "    <tr>\n",
              "      <th>NLM</th>\n",
              "      <td>28.411160</td>\n",
              "      <td>93.748501</td>\n",
              "      <td>0.464836</td>\n",
              "    </tr>\n",
              "    <tr>\n",
              "      <th>Total Variation</th>\n",
              "      <td>27.504419</td>\n",
              "      <td>115.515034</td>\n",
              "      <td>0.235092</td>\n",
              "    </tr>\n",
              "    <tr>\n",
              "      <th>Gaussian</th>\n",
              "      <td>28.185759</td>\n",
              "      <td>98.742577</td>\n",
              "      <td>0.531495</td>\n",
              "    </tr>\n",
              "    <tr>\n",
              "      <th>Wavelet</th>\n",
              "      <td>29.431012</td>\n",
              "      <td>74.127460</td>\n",
              "      <td>0.585024</td>\n",
              "    </tr>\n",
              "    <tr>\n",
              "      <th>Weiner</th>\n",
              "      <td>28.454074</td>\n",
              "      <td>92.826706</td>\n",
              "      <td>0.367193</td>\n",
              "    </tr>\n",
              "    <tr>\n",
              "      <th>Unsharp Filter</th>\n",
              "      <td>28.804666</td>\n",
              "      <td>85.627598</td>\n",
              "      <td>0.732301</td>\n",
              "    </tr>\n",
              "  </tbody>\n",
              "</table>\n",
              "</div>"
            ],
            "text/plain": [
              "                      PSNR         MSE      SSIM\n",
              "TV-NLM           27.504545  115.511662  0.234667\n",
              "BM3D-NLM         27.511726  115.320843  0.249886\n",
              "Bilateral        30.419063   59.043770  0.617440\n",
              "BM3D             27.511817  115.318413  0.249885\n",
              "Anisotropic      27.534542  114.716583  0.339832\n",
              "Median           30.239865   61.530979  0.456341\n",
              "NLM              28.411160   93.748501  0.464836\n",
              "Total Variation  27.504419  115.515034  0.235092\n",
              "Gaussian         28.185759   98.742577  0.531495\n",
              "Wavelet          29.431012   74.127460  0.585024\n",
              "Weiner           28.454074   92.826706  0.367193\n",
              "Unsharp Filter   28.804666   85.627598  0.732301"
            ]
          },
          "metadata": {
            "tags": []
          },
          "execution_count": 47
        }
      ]
    },
    {
      "cell_type": "code",
      "metadata": {
        "id": "kgQLR8VN3jIk",
        "colab_type": "code",
        "outputId": "26b6754a-2710-4815-ba38-3fa261b99ccc",
        "colab": {
          "base_uri": "https://localhost:8080/",
          "height": 421
        }
      },
      "source": [
        "data=dataset[\"0.3\"]\n",
        "index=filters\n",
        "df=pd.DataFrame(data,index)\n",
        "df"
      ],
      "execution_count": 0,
      "outputs": [
        {
          "output_type": "execute_result",
          "data": {
            "text/html": [
              "<div>\n",
              "<style scoped>\n",
              "    .dataframe tbody tr th:only-of-type {\n",
              "        vertical-align: middle;\n",
              "    }\n",
              "\n",
              "    .dataframe tbody tr th {\n",
              "        vertical-align: top;\n",
              "    }\n",
              "\n",
              "    .dataframe thead th {\n",
              "        text-align: right;\n",
              "    }\n",
              "</style>\n",
              "<table border=\"1\" class=\"dataframe\">\n",
              "  <thead>\n",
              "    <tr style=\"text-align: right;\">\n",
              "      <th></th>\n",
              "      <th>PSNR</th>\n",
              "      <th>MSE</th>\n",
              "      <th>SSIM</th>\n",
              "    </tr>\n",
              "  </thead>\n",
              "  <tbody>\n",
              "    <tr>\n",
              "      <th>TV-NLM</th>\n",
              "      <td>27.585528</td>\n",
              "      <td>113.377674</td>\n",
              "      <td>0.236190</td>\n",
              "    </tr>\n",
              "    <tr>\n",
              "      <th>BM3D-NLM</th>\n",
              "      <td>27.584346</td>\n",
              "      <td>113.408550</td>\n",
              "      <td>0.129376</td>\n",
              "    </tr>\n",
              "    <tr>\n",
              "      <th>Bilateral</th>\n",
              "      <td>29.803390</td>\n",
              "      <td>68.036404</td>\n",
              "      <td>0.724514</td>\n",
              "    </tr>\n",
              "    <tr>\n",
              "      <th>BM3D</th>\n",
              "      <td>27.584286</td>\n",
              "      <td>113.410118</td>\n",
              "      <td>0.129375</td>\n",
              "    </tr>\n",
              "    <tr>\n",
              "      <th>Anisotropic</th>\n",
              "      <td>27.549726</td>\n",
              "      <td>114.316196</td>\n",
              "      <td>0.304200</td>\n",
              "    </tr>\n",
              "    <tr>\n",
              "      <th>Median</th>\n",
              "      <td>29.360780</td>\n",
              "      <td>75.335960</td>\n",
              "      <td>0.319907</td>\n",
              "    </tr>\n",
              "    <tr>\n",
              "      <th>NLM</th>\n",
              "      <td>27.480524</td>\n",
              "      <td>116.152344</td>\n",
              "      <td>0.368969</td>\n",
              "    </tr>\n",
              "    <tr>\n",
              "      <th>Total Variation</th>\n",
              "      <td>27.587936</td>\n",
              "      <td>113.314842</td>\n",
              "      <td>0.237426</td>\n",
              "    </tr>\n",
              "    <tr>\n",
              "      <th>Gaussian</th>\n",
              "      <td>28.557629</td>\n",
              "      <td>90.639500</td>\n",
              "      <td>0.498940</td>\n",
              "    </tr>\n",
              "    <tr>\n",
              "      <th>Wavelet</th>\n",
              "      <td>27.819774</td>\n",
              "      <td>107.424400</td>\n",
              "      <td>0.502216</td>\n",
              "    </tr>\n",
              "    <tr>\n",
              "      <th>Weiner</th>\n",
              "      <td>28.554863</td>\n",
              "      <td>90.697227</td>\n",
              "      <td>0.260642</td>\n",
              "    </tr>\n",
              "    <tr>\n",
              "      <th>Unsharp Filter</th>\n",
              "      <td>28.310093</td>\n",
              "      <td>95.955772</td>\n",
              "      <td>0.716325</td>\n",
              "    </tr>\n",
              "  </tbody>\n",
              "</table>\n",
              "</div>"
            ],
            "text/plain": [
              "                      PSNR         MSE      SSIM\n",
              "TV-NLM           27.585528  113.377674  0.236190\n",
              "BM3D-NLM         27.584346  113.408550  0.129376\n",
              "Bilateral        29.803390   68.036404  0.724514\n",
              "BM3D             27.584286  113.410118  0.129375\n",
              "Anisotropic      27.549726  114.316196  0.304200\n",
              "Median           29.360780   75.335960  0.319907\n",
              "NLM              27.480524  116.152344  0.368969\n",
              "Total Variation  27.587936  113.314842  0.237426\n",
              "Gaussian         28.557629   90.639500  0.498940\n",
              "Wavelet          27.819774  107.424400  0.502216\n",
              "Weiner           28.554863   90.697227  0.260642\n",
              "Unsharp Filter   28.310093   95.955772  0.716325"
            ]
          },
          "metadata": {
            "tags": []
          },
          "execution_count": 48
        }
      ]
    },
    {
      "cell_type": "code",
      "metadata": {
        "id": "1gNQ4WAf3wH0",
        "colab_type": "code",
        "outputId": "db1403eb-d13c-4883-bc03-a1405da7fbce",
        "colab": {
          "base_uri": "https://localhost:8080/",
          "height": 421
        }
      },
      "source": [
        "data=dataset[\"0.5\"]\n",
        "index=filters\n",
        "df=pd.DataFrame(data,index)\n",
        "df"
      ],
      "execution_count": 0,
      "outputs": [
        {
          "output_type": "execute_result",
          "data": {
            "text/html": [
              "<div>\n",
              "<style scoped>\n",
              "    .dataframe tbody tr th:only-of-type {\n",
              "        vertical-align: middle;\n",
              "    }\n",
              "\n",
              "    .dataframe tbody tr th {\n",
              "        vertical-align: top;\n",
              "    }\n",
              "\n",
              "    .dataframe thead th {\n",
              "        text-align: right;\n",
              "    }\n",
              "</style>\n",
              "<table border=\"1\" class=\"dataframe\">\n",
              "  <thead>\n",
              "    <tr style=\"text-align: right;\">\n",
              "      <th></th>\n",
              "      <th>PSNR</th>\n",
              "      <th>MSE</th>\n",
              "      <th>SSIM</th>\n",
              "    </tr>\n",
              "  </thead>\n",
              "  <tbody>\n",
              "    <tr>\n",
              "      <th>TV-NLM</th>\n",
              "      <td>27.511663</td>\n",
              "      <td>115.322502</td>\n",
              "      <td>0.256257</td>\n",
              "    </tr>\n",
              "    <tr>\n",
              "      <th>BM3D-NLM</th>\n",
              "      <td>27.570855</td>\n",
              "      <td>113.761387</td>\n",
              "      <td>0.114708</td>\n",
              "    </tr>\n",
              "    <tr>\n",
              "      <th>Bilateral</th>\n",
              "      <td>29.745579</td>\n",
              "      <td>68.948132</td>\n",
              "      <td>0.750356</td>\n",
              "    </tr>\n",
              "    <tr>\n",
              "      <th>BM3D</th>\n",
              "      <td>27.570873</td>\n",
              "      <td>113.760910</td>\n",
              "      <td>0.114708</td>\n",
              "    </tr>\n",
              "    <tr>\n",
              "      <th>Anisotropic</th>\n",
              "      <td>27.510639</td>\n",
              "      <td>115.349697</td>\n",
              "      <td>0.298718</td>\n",
              "    </tr>\n",
              "    <tr>\n",
              "      <th>Median</th>\n",
              "      <td>29.245478</td>\n",
              "      <td>77.362862</td>\n",
              "      <td>0.299232</td>\n",
              "    </tr>\n",
              "    <tr>\n",
              "      <th>NLM</th>\n",
              "      <td>27.481995</td>\n",
              "      <td>116.112999</td>\n",
              "      <td>0.341113</td>\n",
              "    </tr>\n",
              "    <tr>\n",
              "      <th>Total Variation</th>\n",
              "      <td>27.512037</td>\n",
              "      <td>115.312561</td>\n",
              "      <td>0.258688</td>\n",
              "    </tr>\n",
              "    <tr>\n",
              "      <th>Gaussian</th>\n",
              "      <td>28.674622</td>\n",
              "      <td>88.230385</td>\n",
              "      <td>0.484973</td>\n",
              "    </tr>\n",
              "    <tr>\n",
              "      <th>Wavelet</th>\n",
              "      <td>27.684107</td>\n",
              "      <td>110.833134</td>\n",
              "      <td>0.488388</td>\n",
              "    </tr>\n",
              "    <tr>\n",
              "      <th>Weiner</th>\n",
              "      <td>28.540103</td>\n",
              "      <td>91.006016</td>\n",
              "      <td>0.242502</td>\n",
              "    </tr>\n",
              "    <tr>\n",
              "      <th>Unsharp Filter</th>\n",
              "      <td>28.283493</td>\n",
              "      <td>96.545292</td>\n",
              "      <td>0.714148</td>\n",
              "    </tr>\n",
              "  </tbody>\n",
              "</table>\n",
              "</div>"
            ],
            "text/plain": [
              "                      PSNR         MSE      SSIM\n",
              "TV-NLM           27.511663  115.322502  0.256257\n",
              "BM3D-NLM         27.570855  113.761387  0.114708\n",
              "Bilateral        29.745579   68.948132  0.750356\n",
              "BM3D             27.570873  113.760910  0.114708\n",
              "Anisotropic      27.510639  115.349697  0.298718\n",
              "Median           29.245478   77.362862  0.299232\n",
              "NLM              27.481995  116.112999  0.341113\n",
              "Total Variation  27.512037  115.312561  0.258688\n",
              "Gaussian         28.674622   88.230385  0.484973\n",
              "Wavelet          27.684107  110.833134  0.488388\n",
              "Weiner           28.540103   91.006016  0.242502\n",
              "Unsharp Filter   28.283493   96.545292  0.714148"
            ]
          },
          "metadata": {
            "tags": []
          },
          "execution_count": 49
        }
      ]
    },
    {
      "cell_type": "code",
      "metadata": {
        "id": "BUR2S3TP4BQU",
        "colab_type": "code",
        "outputId": "1909bf79-bb0f-4dce-b443-3ade93ad4f23",
        "colab": {
          "base_uri": "https://localhost:8080/",
          "height": 421
        }
      },
      "source": [
        "  from skimage.metrics import structural_similarity\n",
        "\n",
        "filters=['TV-NLM',\n",
        "         'BM3D-NLM',\n",
        "         'Bilateral',\n",
        "         'BM3D',\n",
        "         'Anisotropic',\n",
        "          'Median',\n",
        "         'NLM',\n",
        "         'Total Variation',\n",
        "          'Gaussian',\n",
        "         'Wavelet',\n",
        "         'Weiner',\n",
        "         'Unsharp Filter']\n",
        "dataset={'PSNR':[],'MSE':[],'SSIM':[]}\n",
        "\n",
        "  org_path=\"drive/My Drive/Denoising/With_poisson/org.png\"\n",
        "  original=cv2.imread(org_path)\n",
        "  \n",
        "  for denoised_img in [\"hybrid_tv_img\",\"hybrid_bm3d_img\",\"bilateral\",\"bm3d_img\",\"Anisotropic\",\"median\",\"nlm_img\",\"tv_denoise_img\",\"gaussian\",\"wavelet\",\"weiner\",\"unsharp_filter\"]:\n",
        "      \n",
        "      denoised_path=\"drive/My Drive/Denoising/With_poisson/\" + denoised_img +\".png\"\n",
        "      denoised=cv2.imread(denoised_path)\n",
        "   \n",
        "      \n",
        "      PSNR=psnr(original,denoised)\n",
        "      MSE=mse(original,denoised)\n",
        "      SSIM=structural_similarity(original,denoised,multichannel=True)\n",
        "      \n",
        "      dataset['PSNR'].append(PSNR)\n",
        "      dataset['MSE'].append(MSE)\n",
        "      dataset['SSIM'].append(SSIM)\n",
        "\n",
        "\n",
        "df=pd.DataFrame(dataset,filters)\n",
        "df"
      ],
      "execution_count": 0,
      "outputs": [
        {
          "output_type": "execute_result",
          "data": {
            "text/html": [
              "<div>\n",
              "<style scoped>\n",
              "    .dataframe tbody tr th:only-of-type {\n",
              "        vertical-align: middle;\n",
              "    }\n",
              "\n",
              "    .dataframe tbody tr th {\n",
              "        vertical-align: top;\n",
              "    }\n",
              "\n",
              "    .dataframe thead th {\n",
              "        text-align: right;\n",
              "    }\n",
              "</style>\n",
              "<table border=\"1\" class=\"dataframe\">\n",
              "  <thead>\n",
              "    <tr style=\"text-align: right;\">\n",
              "      <th></th>\n",
              "      <th>PSNR</th>\n",
              "      <th>MSE</th>\n",
              "      <th>SSIM</th>\n",
              "    </tr>\n",
              "  </thead>\n",
              "  <tbody>\n",
              "    <tr>\n",
              "      <th>TV-NLM</th>\n",
              "      <td>35.115771</td>\n",
              "      <td>20.021805</td>\n",
              "      <td>0.915016</td>\n",
              "    </tr>\n",
              "    <tr>\n",
              "      <th>BM3D-NLM</th>\n",
              "      <td>26.879096</td>\n",
              "      <td>133.404598</td>\n",
              "      <td>0.182192</td>\n",
              "    </tr>\n",
              "    <tr>\n",
              "      <th>Bilateral</th>\n",
              "      <td>37.114521</td>\n",
              "      <td>12.636543</td>\n",
              "      <td>0.948025</td>\n",
              "    </tr>\n",
              "    <tr>\n",
              "      <th>BM3D</th>\n",
              "      <td>26.879096</td>\n",
              "      <td>133.404598</td>\n",
              "      <td>0.182192</td>\n",
              "    </tr>\n",
              "    <tr>\n",
              "      <th>Anisotropic</th>\n",
              "      <td>34.786119</td>\n",
              "      <td>21.600731</td>\n",
              "      <td>0.880030</td>\n",
              "    </tr>\n",
              "    <tr>\n",
              "      <th>Median</th>\n",
              "      <td>37.112767</td>\n",
              "      <td>12.641647</td>\n",
              "      <td>0.919755</td>\n",
              "    </tr>\n",
              "    <tr>\n",
              "      <th>NLM</th>\n",
              "      <td>37.778385</td>\n",
              "      <td>10.845306</td>\n",
              "      <td>0.941158</td>\n",
              "    </tr>\n",
              "    <tr>\n",
              "      <th>Total Variation</th>\n",
              "      <td>35.114329</td>\n",
              "      <td>20.028454</td>\n",
              "      <td>0.915286</td>\n",
              "    </tr>\n",
              "    <tr>\n",
              "      <th>Gaussian</th>\n",
              "      <td>35.262510</td>\n",
              "      <td>19.356613</td>\n",
              "      <td>0.917615</td>\n",
              "    </tr>\n",
              "    <tr>\n",
              "      <th>Wavelet</th>\n",
              "      <td>26.853159</td>\n",
              "      <td>134.203701</td>\n",
              "      <td>0.159942</td>\n",
              "    </tr>\n",
              "    <tr>\n",
              "      <th>Weiner</th>\n",
              "      <td>27.044135</td>\n",
              "      <td>128.430107</td>\n",
              "      <td>0.123532</td>\n",
              "    </tr>\n",
              "    <tr>\n",
              "      <th>Unsharp Filter</th>\n",
              "      <td>35.516529</td>\n",
              "      <td>18.256916</td>\n",
              "      <td>0.937289</td>\n",
              "    </tr>\n",
              "  </tbody>\n",
              "</table>\n",
              "</div>"
            ],
            "text/plain": [
              "                      PSNR         MSE      SSIM\n",
              "TV-NLM           35.115771   20.021805  0.915016\n",
              "BM3D-NLM         26.879096  133.404598  0.182192\n",
              "Bilateral        37.114521   12.636543  0.948025\n",
              "BM3D             26.879096  133.404598  0.182192\n",
              "Anisotropic      34.786119   21.600731  0.880030\n",
              "Median           37.112767   12.641647  0.919755\n",
              "NLM              37.778385   10.845306  0.941158\n",
              "Total Variation  35.114329   20.028454  0.915286\n",
              "Gaussian         35.262510   19.356613  0.917615\n",
              "Wavelet          26.853159  134.203701  0.159942\n",
              "Weiner           27.044135  128.430107  0.123532\n",
              "Unsharp Filter   35.516529   18.256916  0.937289"
            ]
          },
          "metadata": {
            "tags": []
          },
          "execution_count": 50
        }
      ]
    }
  ]
}